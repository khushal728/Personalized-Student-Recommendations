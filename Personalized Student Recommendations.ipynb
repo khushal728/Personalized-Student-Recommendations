{
 "cells": [
  {
   "cell_type": "code",
   "execution_count": 1,
   "id": "fe59c2bb-4637-439a-82c4-bfd9387fc232",
   "metadata": {},
   "outputs": [],
   "source": [
    "import pandas as pd\n",
    "import numpy as np\n",
    "\n",
    "# For visualization (if needed)\n",
    "import matplotlib.pyplot as plt\n",
    "import seaborn as sns\n"
   ]
  },
  {
   "cell_type": "code",
   "execution_count": 51,
   "id": "88519c92-ab4d-413d-a6e7-db360be736db",
   "metadata": {},
   "outputs": [
    {
     "name": "stdout",
     "output_type": "stream",
     "text": [
      "File downloaded and saved as 'Quiz_endpoint.json'\n"
     ]
    }
   ],
   "source": [
    "import requests\n",
    "\n",
    "# URL of the JSON file\n",
    "url = 'https://www.jsonkeeper.com/b/LLQT'\n",
    "\n",
    "# Send a GET request to the URL\n",
    "response = requests.get(url)\n",
    "\n",
    "# Save the content to a file\n",
    "with open('Current Quiz Data.json', 'wb') as file:\n",
    "    file.write(response.content)\n",
    "\n",
    "print(\"File downloaded and saved as ' Current Quiz Data.json'\")\n"
   ]
  },
  {
   "cell_type": "code",
   "execution_count": 52,
   "id": "a23f1911-2be9-4dde-a909-2fde0d43354a",
   "metadata": {},
   "outputs": [
    {
     "name": "stdout",
     "output_type": "stream",
     "text": [
      "File downloaded and saved as 'Historical Quiz Data.json'\n"
     ]
    }
   ],
   "source": [
    "import requests\n",
    "\n",
    "# URL of the JSON file\n",
    "url = 'https://api.jsonserve.com/XgAgFJ'\n",
    "\n",
    "# Send a GET request to the URL\n",
    "response = requests.get(url)\n",
    "\n",
    "# Save the content to a file\n",
    "with open('Historical Quiz Data.json', 'wb') as file:\n",
    "    file.write(response.content)\n",
    "\n",
    "print(\"File downloaded and saved as 'Historical Quiz Data.json'\")\n"
   ]
  },
  {
   "cell_type": "code",
   "execution_count": 50,
   "id": "a5a23200-12bf-4f36-9410-4070ec1a7b7e",
   "metadata": {},
   "outputs": [],
   "source": [
    "# Load the datasets (Replace with actual paths or API calls)\n",
    "current_quiz_data = pd.read_json('Quiz_endpoint.json')\n",
    "historical_quiz_data = pd.read_json('historical quiz data.json')\n",
    "\n"
   ]
  },
  {
   "cell_type": "code",
   "execution_count": 24,
   "id": "bd8d4021-47a5-4cee-bafc-b0c136f94514",
   "metadata": {},
   "outputs": [
    {
     "name": "stdout",
     "output_type": "stream",
     "text": [
      "                                                               quiz\n",
      "id                                                               43\n",
      "name                                                           None\n",
      "title             Structural Organisation in Animals and Plants (7)\n",
      "description                                                        \n",
      "difficulty_level                                               None\n"
     ]
    }
   ],
   "source": [
    "# Preview the data\n",
    "print(current_quiz_data.head())\n",
    "\n"
   ]
  },
  {
   "cell_type": "code",
   "execution_count": 25,
   "id": "5a5ce19f-da1f-4ed0-8d01-e4455408b81f",
   "metadata": {},
   "outputs": [
    {
     "name": "stdout",
     "output_type": "stream",
     "text": [
      "       id  quiz_id                       user_id  \\\n",
      "0  336497       51  YcDFSO4ZukTJnnFMgRNVwZTE4j42   \n",
      "1  336448        6  YcDFSO4ZukTJnnFMgRNVwZTE4j42   \n",
      "2  333330       51  YcDFSO4ZukTJnnFMgRNVwZTE4j42   \n",
      "3  333242        6  YcDFSO4ZukTJnnFMgRNVwZTE4j42   \n",
      "4  329504       51  YcDFSO4ZukTJnnFMgRNVwZTE4j42   \n",
      "\n",
      "                      submitted_at                       created_at  \\\n",
      "0 2025-01-17 15:30:18.027000+05:30 2025-01-17 15:30:18.044000+05:30   \n",
      "1 2025-01-17 15:17:44.042000+05:30 2025-01-17 15:17:44.056000+05:30   \n",
      "2 2025-01-16 20:13:19.682000+05:30 2025-01-16 20:13:19.699000+05:30   \n",
      "3 2025-01-16 20:00:11.562000+05:30 2025-01-16 20:00:11.573000+05:30   \n",
      "4 2025-01-15 20:34:39.462000+05:30 2025-01-15 20:34:39.478000+05:30   \n",
      "\n",
      "                        updated_at  score  trophy_level accuracy  speed  ...  \\\n",
      "0 2025-01-17 15:30:18.044000+05:30    108             2     90 %    100  ...   \n",
      "1 2025-01-17 15:17:44.056000+05:30     92             1    100 %    100  ...   \n",
      "2 2025-01-16 20:13:19.699000+05:30    116             2     96 %    100  ...   \n",
      "3 2025-01-16 20:00:11.573000+05:30     36             2     90 %    100  ...   \n",
      "4 2025-01-15 20:34:39.478000+05:30     36             3     31 %     96  ...   \n",
      "\n",
      "                 started_at                  ended_at  duration  better_than  \\\n",
      "0 2025-01-17 15:18:30+05:30 2025-01-17 15:30:15+05:30     15:00          107   \n",
      "1 2025-01-17 15:07:45+05:30 2025-01-17 15:17:41+05:30     15:00          395   \n",
      "2 2025-01-16 20:01:10+05:30 2025-01-16 20:13:18+05:30     15:00          115   \n",
      "3 2025-01-16 19:52:57+05:30 2025-01-16 20:00:09+05:30     15:00          152   \n",
      "4 2025-01-15 20:21:25+05:30 2025-01-15 20:34:38+05:30     15:00           35   \n",
      "\n",
      "  total_questions            rank_text mistakes_corrected  \\\n",
      "0             100   Topic Rank - #-171                  9   \n",
      "1              23  Topic Rank - #-9140                  3   \n",
      "2             100   Topic Rank - #-418                 11   \n",
      "3              23  Topic Rank - #-1598                  1   \n",
      "4             100   Topic Rank - #2023                  0   \n",
      "\n",
      "  initial_mistake_count                                       response_map  \\\n",
      "0                    12  {'2523': 10109, '2529': 10130, '2533': 10149, ...   \n",
      "1                     3  {'48': 192, '49': 197, '50': 199, '51': 203, '...   \n",
      "2                    12  {'2523': 10109, '2525': 10117, '2528': 10127, ...   \n",
      "3                     2  {'49': 197, '52': 208, '53': 212, '54': 217, '...   \n",
      "4                    20  {'2521': 10099, '2523': 10107, '2532': 10145, ...   \n",
      "\n",
      "                                                quiz  \n",
      "0  {'id': 51, 'name': None, 'title': 'Human Physi...  \n",
      "1  {'id': 6, 'name': None, 'title': 'Human Physio...  \n",
      "2  {'id': 51, 'name': None, 'title': 'Human Physi...  \n",
      "3  {'id': 6, 'name': None, 'title': 'Human Physio...  \n",
      "4  {'id': 51, 'name': None, 'title': 'Human Physi...  \n",
      "\n",
      "[5 rows x 26 columns]\n"
     ]
    }
   ],
   "source": [
    "print(historical_quiz_data.head())"
   ]
  },
  {
   "cell_type": "code",
   "execution_count": 43,
   "id": "8af0e603-c422-4c67-acf4-118fa546bb78",
   "metadata": {},
   "outputs": [
    {
     "name": "stdout",
     "output_type": "stream",
     "text": [
      "    type      score\n",
      "0  topic  60.285714\n",
      "   trophy_level      score\n",
      "0             1  66.000000\n",
      "1             2  73.142857\n",
      "2             3  40.000000\n"
     ]
    }
   ],
   "source": [
    "# Function to analyze performance by topic\n",
    "def analyze_performance_by_topic(data):\n",
    "    performance_by_topic = data.groupby('type')['score'].mean().reset_index()\n",
    "    print(performance_by_topic)\n",
    "    return performance_by_topic\n",
    "\n",
    "# Function to analyze performance by difficulty level\n",
    "def analyze_performance_by_difficulty(data):\n",
    "    performance_by_difficulty = data.groupby('trophy_level')['score'].mean().reset_index()\n",
    "    print(performance_by_difficulty)\n",
    "    return performance_by_difficulty\n",
    "\n",
    "performance_by_topic = analyze_performance_by_topic(historical_quiz_data)\n",
    "performance_by_difficulty = analyze_performance_by_difficulty(historical_quiz_data)\n"
   ]
  },
  {
   "cell_type": "code",
   "execution_count": null,
   "id": "6bc97321-4463-4c98-8c81-34ccf4c4df02",
   "metadata": {},
   "outputs": [],
   "source": [
    "df_numeric = df[pd.to_numeric(df['column_name'], errors='coerce').notna()]\n",
    "mean_value = df_numeric['column_name'].mean()\n"
   ]
  },
  {
   "cell_type": "code",
   "execution_count": 46,
   "id": "e5aff9fa-1630-4595-9563-e1d9f98bf604",
   "metadata": {},
   "outputs": [
    {
     "name": "stdout",
     "output_type": "stream",
     "text": [
      "Weak topics: ['topic']\n",
      "   quiz_id       score      trend\n",
      "0        6   54.666667   0.000000\n",
      "1       18   52.000000  -2.666667\n",
      "2       20   12.000000 -40.000000\n",
      "3       24   76.000000  64.000000\n",
      "4       25  112.000000  36.000000\n",
      "5       50   24.000000 -88.000000\n",
      "6       51   86.666667  62.666667\n",
      "7       57   40.000000 -46.666667\n",
      "8       58   52.000000  12.000000\n"
     ]
    }
   ],
   "source": [
    "# Identify weak areas\n",
    "def identify_weak_areas(data):\n",
    "    weak_topics = data[data['score'] < 50]['type'].unique()\n",
    "    print(f\"Weak topics: {weak_topics}\")\n",
    "    return weak_topics\n",
    "\n",
    "# Identify improvement trends\n",
    "def identify_improvement_trends(data):\n",
    "    trend_data = data.groupby('quiz_id').agg({'score': 'mean'}).reset_index()\n",
    "    trend_data['trend'] = trend_data['score'].diff().fillna(0)\n",
    "    print(trend_data)\n",
    "    return trend_data\n",
    "\n",
    "weak_areas = identify_weak_areas(historical_quiz_data)\n",
    "improvement_trends = identify_improvement_trends(historical_quiz_data)\n"
   ]
  },
  {
   "cell_type": "code",
   "execution_count": 47,
   "id": "4aedae99-076d-41f4-8ac1-b6b826cdabdf",
   "metadata": {},
   "outputs": [
    {
     "name": "stdout",
     "output_type": "stream",
     "text": [
      "Recommendations:\n",
      "Focus more on topic to improve your performance.\n",
      "Your performance is improving! Keep up the good work.\n"
     ]
    }
   ],
   "source": [
    "# Function to generate recommendations\n",
    "def generate_recommendations(weak_topics, trend_data):\n",
    "    recommendations = []\n",
    "    for topic in weak_topics:\n",
    "        recommendations.append(f\"Focus more on {topic} to improve your performance.\")\n",
    "    if trend_data['trend'].iloc[-1] > 0:\n",
    "        recommendations.append(\"Your performance is improving! Keep up the good work.\")\n",
    "    else:\n",
    "        recommendations.append(\"Your performance has stagnated. Consider revisiting your study strategy.\")\n",
    "    return recommendations\n",
    "\n",
    "recommendations = generate_recommendations(weak_areas, improvement_trends)\n",
    "print(\"Recommendations:\")\n",
    "for rec in recommendations:\n",
    "    print(rec)\n"
   ]
  },
  {
   "cell_type": "code",
   "execution_count": 48,
   "id": "2ed3f757-e49f-4bb1-8e52-0d3c45b17e6d",
   "metadata": {},
   "outputs": [
    {
     "name": "stdout",
     "output_type": "stream",
     "text": [
      "Student Persona: Average Performer\n"
     ]
    }
   ],
   "source": [
    "# Function to define student persona\n",
    "def define_student_persona(data):\n",
    "    if data['score'].mean() > 70:\n",
    "        return \"High Achiever\"\n",
    "    elif data['score'].mean() > 50:\n",
    "        return \"Average Performer\"\n",
    "    else:\n",
    "        return \"Needs Improvement\"\n",
    "\n",
    "student_persona = define_student_persona(historical_quiz_data)\n",
    "print(f\"Student Persona: {student_persona}\")\n"
   ]
  },
  {
   "cell_type": "code",
   "execution_count": null,
   "id": "7210ea79-012d-4500-8dd0-25f6be028241",
   "metadata": {},
   "outputs": [],
   "source": []
  },
  {
   "cell_type": "code",
   "execution_count": null,
   "id": "fb84c5cd-58af-48aa-b631-b08b5d3d710f",
   "metadata": {},
   "outputs": [],
   "source": []
  },
  {
   "cell_type": "code",
   "execution_count": null,
   "id": "ee25fc5d-6075-4053-bc3d-8f625ea2551c",
   "metadata": {},
   "outputs": [],
   "source": []
  },
  {
   "cell_type": "code",
   "execution_count": null,
   "id": "db745ea0-b1b1-47f8-9130-ed8b2b0d31ad",
   "metadata": {},
   "outputs": [],
   "source": []
  }
 ],
 "metadata": {
  "kernelspec": {
   "display_name": "Python 3 (ipykernel)",
   "language": "python",
   "name": "python3"
  },
  "language_info": {
   "codemirror_mode": {
    "name": "ipython",
    "version": 3
   },
   "file_extension": ".py",
   "mimetype": "text/x-python",
   "name": "python",
   "nbconvert_exporter": "python",
   "pygments_lexer": "ipython3",
   "version": "3.12.2"
  }
 },
 "nbformat": 4,
 "nbformat_minor": 5
}
